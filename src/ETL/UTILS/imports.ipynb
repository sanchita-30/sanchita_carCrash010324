{
 "cells": [
  {
   "cell_type": "code",
   "execution_count": 1,
   "id": "d786ebd5-d6c5-428a-ba21-726cc7a31ba7",
   "metadata": {},
   "outputs": [],
   "source": [
    "import pyspark\n",
    "from pyspark.sql import SparkSession\n",
    "spark = SparkSession.builder \\\n",
    "                    .master('local[1]') \\\n",
    "                    .appName('CarCrashSDE') \\\n",
    "                    .getOrCreate()\n",
    "\n",
    "\n"
   ]
  },
  {
   "cell_type": "code",
   "execution_count": 1,
   "id": "6cfa23ca-5596-41b2-a47d-77c7f6220c34",
   "metadata": {},
   "outputs": [],
   "source": [
    "from pyspark.sql.functions import col,concat,row_number\n",
    "from pyspark.sql.window import Window\n",
    "import yaml\n",
    "import logging"
   ]
  },
  {
   "cell_type": "markdown",
   "id": "b979725f-9d8f-4783-ad77-2afe4a9d583e",
   "metadata": {},
   "source": [
    "Rawdata paths"
   ]
  },
  {
   "cell_type": "code",
   "execution_count": null,
   "id": "a7e19436-4c3d-412f-971d-bf905e65c74a",
   "metadata": {},
   "outputs": [],
   "source": []
  }
 ],
 "metadata": {
  "kernelspec": {
   "display_name": "pyspark-env",
   "language": "python",
   "name": "pyspark-env"
  },
  "language_info": {
   "codemirror_mode": {
    "name": "ipython",
    "version": 3
   },
   "file_extension": ".py",
   "mimetype": "text/x-python",
   "name": "python",
   "nbconvert_exporter": "python",
   "pygments_lexer": "ipython3",
   "version": "3.12.2"
  }
 },
 "nbformat": 4,
 "nbformat_minor": 5
}
