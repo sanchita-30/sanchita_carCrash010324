{
 "cells": [
  {
   "cell_type": "code",
   "execution_count": null,
   "id": "02e2eab5-d524-43c7-bdc6-5e5dbcc4c991",
   "metadata": {},
   "outputs": [],
   "source": [
    "%run ./UTILS/imports.ipynb"
   ]
  },
  {
   "cell_type": "code",
   "execution_count": 2,
   "id": "337e243a-4bcd-4284-bd31-492e45effabc",
   "metadata": {},
   "outputs": [],
   "source": [
    "def show(self):\n",
    "    self.df.show()\n",
    "    \n",
    "def read_csv(path):\n",
    "    return spark.read.format(\"csv\").option(\"Header\",True).option(\"inferSchema\",True).load(path)\n",
    "\n",
    "def read_parquet(path):\n",
    "    return spark.read.format(\"parquet\").option(\"Header\",True).option(\"inferSchema\",True).load(path)\n",
    "\n",
    "def write_df_to_parquet(df,path):\n",
    "    df.coalesce(1).write.option(\"header\",True).mode('overwrite').parquet(path)\n",
    "    \n",
    "def write_df_to_csv(df,path):\n",
    "    df.coalesce(1).write.option(\"header\",True).mode('overwrite').csv(path)\n",
    "\n",
    "def read_yaml():\n",
    "    with open('./UTILS/configs.yaml', 'r') as file:\n",
    "        config = yaml.safe_load(file)\n",
    "    return config"
   ]
  },
  {
   "cell_type": "code",
   "execution_count": null,
   "id": "88d86eac-3368-459d-9135-9a433433d8ce",
   "metadata": {},
   "outputs": [],
   "source": []
  }
 ],
 "metadata": {
  "kernelspec": {
   "display_name": "pyspark-env",
   "language": "python",
   "name": "pyspark-env"
  },
  "language_info": {
   "codemirror_mode": {
    "name": "ipython",
    "version": 3
   },
   "file_extension": ".py",
   "mimetype": "text/x-python",
   "name": "python",
   "nbconvert_exporter": "python",
   "pygments_lexer": "ipython3",
   "version": "3.12.2"
  }
 },
 "nbformat": 4,
 "nbformat_minor": 5
}
