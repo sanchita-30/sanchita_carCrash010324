{
 "cells": [
  {
   "cell_type": "code",
   "execution_count": null,
   "id": "e75c928c-6fea-4965-b9e8-779354e867c1",
   "metadata": {},
   "outputs": [],
   "source": [
    "%run ./UTILS/IMPORTS.ipynb"
   ]
  },
  {
   "cell_type": "code",
   "execution_count": null,
   "id": "337e243a-4bcd-4284-bd31-492e45effabc",
   "metadata": {},
   "outputs": [],
   "source": [
    "class CsvUtils():\n",
    "    \n",
    "    def show(self):\n",
    "        self.df.show()\n",
    "        \n",
    "    def read_df(path):\n",
    "        return spark.read.format(\"csv\").option(\"Header\",True).option(\"inferSchema\",True).load(path)\n",
    "\n",
    "    def write_df(df,path):\n",
    "        df.coalesce(1).write.option(\"header\",True).mode('overwrite').csv(path)"
   ]
  }
 ],
 "metadata": {
  "kernelspec": {
   "display_name": "pyspark-env",
   "language": "python",
   "name": "pyspark-env"
  },
  "language_info": {
   "codemirror_mode": {
    "name": "ipython",
    "version": 3
   },
   "file_extension": ".py",
   "mimetype": "text/x-python",
   "name": "python",
   "nbconvert_exporter": "python",
   "pygments_lexer": "ipython3",
   "version": "3.12.2"
  }
 },
 "nbformat": 4,
 "nbformat_minor": 5
}
