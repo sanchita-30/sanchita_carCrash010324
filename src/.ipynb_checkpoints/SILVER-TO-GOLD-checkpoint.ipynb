{
 "cells": [
  {
   "cell_type": "code",
   "execution_count": 53,
   "id": "5c286292-e637-4ee5-b995-9fa7240fb92f",
   "metadata": {},
   "outputs": [],
   "source": [
    "%run ./COMMON/FUNCTIONS.ipynb"
   ]
  },
  {
   "cell_type": "code",
   "execution_count": 71,
   "id": "b3d7e48a-5d38-40c3-a567-75cb3bb5e866",
   "metadata": {},
   "outputs": [],
   "source": [
    "class ToGold():\n",
    "    #data cleaning functions\n",
    "    def __init__(self):\n",
    "        self.primary_person = read_df(SILVER_PATHS['PRIMARY_PERSON_USE_PATH'])\n",
    "        self.units = read_df(SILVER_PATHS['UNITS_USE_PATH'])\n",
    "        self.charges = read_df(SILVER_PATHS['CHARGES_USE_PATH'])\n",
    "        self.endorse = read_df(SILVER_PATHS['ENDORSE_USE_PATH'])\n",
    "        self.damages = read_df(SILVER_PATHS['DAMAGES_USE_PATH'])\n",
    "        self.restrict = read_df(SILVER_PATHS['RESTRICT_USE_PATH'])\n",
    "       \n",
    "    def show(self):\n",
    "        self.df.show()\n",
    "        \n",
    "    def accCountMalesKilled(self):\n",
    "        \n",
    "        primary_person = self.primary_person.filter((col('PRSN_GNDR_ID')=='MALE')&(col('PRSN_INJRY_SEV_ID')=='KILLED'))\\\n",
    "                            .groupby(col('CRASH_ID')).sum('DEATH_CNT')    \n",
    "        return primary_person.filter(col('sum(DEATH_CNT)')>2).count()\n",
    "\n",
    "    \n",
    "    def twoWheelerCrashes(self):\n",
    "        \n",
    "        units = self.units.where(col('VEH_BODY_STYL_ID').contains('MOTORCYCLE'))\\\n",
    "                    .select('VIN').distinct().count()\n",
    "        \n",
    "        #charges = self.charges.where(col('CHARGE').contains('BOOK')).select('CRASH_ID').distinct()\n",
    "        \n",
    "        return units #.join(charges,on='CRASH_ID',how='inner').select('VIN').distinct().count()\n",
    "\n",
    "\n",
    "    def carMakersAirBags(self):\n",
    "\n",
    "        primary_person = self.primary_person.filter((col('PRSN_INJRY_SEV_ID')=='KILLED')\n",
    "                                                    &(col('PRSN_AIRBAG_ID')=='NOT DEPLOYED'))\\\n",
    "                            .select('CRASH_ID').distinct()\n",
    "        \n",
    "        units = self.units.filter((~col(\"VEH_MAKE_ID\").isin([\"NA\",\"UNKNOWN\"])))\\\n",
    "                    .select('CRASH_ID','VEH_MAKE_ID').distinct()\n",
    "\n",
    "        result = primary_person.join(units, on ='CRASH_ID',how='inner')\\\n",
    "                    .select(units['*'])\\\n",
    "                    .groupby('VEH_MAKE_ID').count()\\\n",
    "                    .orderBy(col('count').desc()).limit(5)\n",
    "        result.show()\n",
    "\n",
    "    def hitAndRun(self):\n",
    "        units = self.units.filter(col('VEH_HNR_FL')=='Y').select('CRASH_ID','VIN').distinct()\n",
    "        primary_person = self.primary_person.filter((col('DRVR_LIC_TYPE_ID')\\\n",
    "                                                     .isin(['DRIVER LICENSE','COMMERCIAL DRIVER LIC.','OCCUPATIONAL'])))\\\n",
    "                                                    .select('CRASH_ID').distinct()\n",
    "        return units.join(primary_person,on='CRASH_ID',how='inner').select('VIN').distinct().count()\n",
    "\n",
    "    def StateWithNoFemaleCrashes(self):\n",
    "        primary_person = self.primary_person.filter((col('PRSN_GNDR_ID')!='FEMALE')).select('DRVR_LIC_STATE_ID','CRASH_ID').distinct()\n",
    "        result = primary_person.groupby('DRVR_LIC_STATE_ID').count().orderBy(col('count').desc()).limit(1)\n",
    "        result.show()\n",
    "        \n",
    "                                                                    \n",
    "        "
   ]
  },
  {
   "cell_type": "code",
   "execution_count": 72,
   "id": "6a56a448-ef07-4c30-8b10-82c8b02c9e4b",
   "metadata": {},
   "outputs": [
    {
     "name": "stdout",
     "output_type": "stream",
     "text": [
      "+-----------------+-----+\n",
      "|DRVR_LIC_STATE_ID|count|\n",
      "+-----------------+-----+\n",
      "|            Texas|61589|\n",
      "+-----------------+-----+\n",
      "\n"
     ]
    }
   ],
   "source": [
    "obj = ToGold()\n",
    "df = obj.accCountMalesKilled()\n",
    "df = obj.twoWheelerCrashes()\n",
    "df = obj.StateWithNoFemaleCrashes()"
   ]
  },
  {
   "cell_type": "code",
   "execution_count": 60,
   "id": "ba61806b-c8fc-4aaf-b388-2e697afc01a6",
   "metadata": {},
   "outputs": [
    {
     "data": {
      "text/plain": [
       "3105"
      ]
     },
     "execution_count": 60,
     "metadata": {},
     "output_type": "execute_result"
    }
   ],
   "source": [
    "df"
   ]
  },
  {
   "cell_type": "code",
   "execution_count": null,
   "id": "7130f1df-6876-4376-8407-ba883b5eb22c",
   "metadata": {},
   "outputs": [],
   "source": []
  }
 ],
 "metadata": {
  "kernelspec": {
   "display_name": "pyspark-env",
   "language": "python",
   "name": "pyspark-env"
  },
  "language_info": {
   "codemirror_mode": {
    "name": "ipython",
    "version": 3
   },
   "file_extension": ".py",
   "mimetype": "text/x-python",
   "name": "python",
   "nbconvert_exporter": "python",
   "pygments_lexer": "ipython3",
   "version": "3.12.2"
  }
 },
 "nbformat": 4,
 "nbformat_minor": 5
}
