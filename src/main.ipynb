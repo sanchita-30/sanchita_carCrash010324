{
 "cells": [
  {
   "cell_type": "code",
   "execution_count": null,
   "id": "7d5f43c6-f479-4f37-a8e7-039533f3af2e",
   "metadata": {},
   "outputs": [
    {
     "name": "stdout",
     "output_type": "stream",
     "text": [
      "CHARGES written to Bronze.\n",
      "DAMAGES written to Bronze.\n",
      "ENDORSE written to Bronze.\n",
      "PRIMARY_PERSON written to Bronze.\n",
      "RESTRICT written to Bronze.\n",
      "UNITS written to Bronze.\n"
     ]
    }
   ],
   "source": [
    "%run ./ETL.ipynb"
   ]
  },
  {
   "cell_type": "code",
   "execution_count": null,
   "id": "7c3819cd-aa48-4807-b634-6d58fd761fcb",
   "metadata": {},
   "outputs": [],
   "source": [
    "if __name__ ==\"__main__\":\n",
    "    \n",
    "    config = read_yaml()\n",
    "    \n",
    "    for key in config['BRONZE_PATHS']:\n",
    "        \n",
    "        path = config['BRONZE_PATHS'][key]\n",
    "        dfname = key[:-9]\n",
    "        columns = config['COLUMNS'][dfname+'_COLUMNS']\n",
    "        silver_path = config['SILVER_PATHS'][key]\n",
    "        \n",
    "        obj = ToSilver(path)\n",
    "        df = obj.nullHandling()\n",
    "        df = obj.dropColumns(df,columns)\n",
    "        write_df_to_parquet(df,silver_path)\n",
    "        print(dfname,'written to Bronze.')\n",
    "    \n",
    "    try:\n",
    "        obj = ToGold(config.get('SILVER_PATHS')) \n",
    "        \n",
    "        #Find the number of crashes (accidents) in which number of males killed are greater than 2?\n",
    "        obj.accCountMalesKilled(config.get('GOLD_PATH'))\n",
    "        \n",
    "        # How many two wheelers are booked for crashes? \n",
    "        obj.twoWheelerCrashes(config.get('GOLD_PATH'))\n",
    "        \n",
    "        #Determine the Top 5 Vehicle Makes of the cars present in the crashes in which driver died and Airbags did not deploy.\n",
    "        obj.carMakersAirBags(config.get('GOLD_PATH'))\n",
    "        \n",
    "        #Determine number of Vehicles with driver having valid licences involved in hit and run? \n",
    "        obj.hitAndRun(config.get('GOLD_PATH'))\n",
    "        \n",
    "        #Which state has highest number of accidents in which females are not involved? \n",
    "        obj.stateWithNoFemaleCrashes(config.get('GOLD_PATH'))\n",
    "        \n",
    "        #Which are the Top 3rd to 5th VEH_MAKE_IDs that contribute to a largest number of injuries including death\n",
    "        obj.top3To5VehMakers(config.get('GOLD_PATH'))\n",
    "        \n",
    "        #For all the body styles involved in crashes, mention the top ethnic user group of each unique body style  \n",
    "        obj.crashesOnVehAndEth(config.get('GOLD_PATH'))\n",
    "        \n",
    "        #Among the crashed cars, what are the Top 5 Zip Codes with highest number crashes with alcohols as the contributing factor to a crash (Use Driver Zip Code)\n",
    "        obj.zipCodes_AlcInfluence_Crashes(config.get('GOLD_PATH'))\n",
    "        \n",
    "        #Count of Distinct Crash IDs where No Damaged Property was observed and Damage Levelis above 4 and car avails Insurance\n",
    "        obj.insAvailCrashes(config.get('GOLD_PATH'))\n",
    "        \n",
    "        #Determine the Top 5 Vehicle Makes where drivers are charged with speeding related offences, \n",
    "        #has licensed Drivers, used top 10 used vehicle colours and has car licensed with the Top 25 states with highest number of offences \n",
    "        obj.veh_mkrs_spding(config.get('GOLD_PATH'))\n",
    "        \n",
    "        logging.basicConfig(level=logging.INFO)\n",
    "        \n",
    "    except Exception as e:\n",
    "        logging.error(f\"An error occurred: {str(e)}\")"
   ]
  }
 ],
 "metadata": {
  "kernelspec": {
   "display_name": "pyspark-env",
   "language": "python",
   "name": "pyspark-env"
  },
  "language_info": {
   "codemirror_mode": {
    "name": "ipython",
    "version": 3
   },
   "file_extension": ".py",
   "mimetype": "text/x-python",
   "name": "python",
   "nbconvert_exporter": "python",
   "pygments_lexer": "ipython3",
   "version": "3.12.2"
  }
 },
 "nbformat": 4,
 "nbformat_minor": 5
}
